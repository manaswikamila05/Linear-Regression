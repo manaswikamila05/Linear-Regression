{
 "cells": [
  {
   "cell_type": "markdown",
   "id": "03b6849e",
   "metadata": {},
   "source": [
    "# Linear regression"
   ]
  },
  {
   "cell_type": "markdown",
   "id": "82d44eb1",
   "metadata": {},
   "source": [
    "Regression: The output variable to be predicted is a **continuous variable**, e.g. scores of a student"
   ]
  },
  {
   "cell_type": "markdown",
   "id": "d4a7ab14",
   "metadata": {},
   "source": [
    "Regression and classification fall under supervised learning methods – in which you have the previous years’ data with labels and you use that to build the model."
   ]
  },
  {
   "cell_type": "markdown",
   "id": "215c7891",
   "metadata": {},
   "source": [
    "### Supervised learning methods\n",
    "- Past data with labels is used for building the model.\n",
    "- Regression and classification algorithms fall under this category."
   ]
  },
  {
   "cell_type": "markdown",
   "id": "5424c1b6",
   "metadata": {},
   "source": [
    "### Past dataset is divided into two parts in the supervised learning method\n",
    "- Training data is used for the model to learn during modelling.\n",
    "- Testing data is used by the trained model for prediction and model evaluation."
   ]
  },
  {
   "cell_type": "markdown",
   "id": "5c7ad513",
   "metadata": {},
   "source": [
    "A simple linear regression model attempts to explain the **relationship between a dependent variable and an independent one using a straight line.**"
   ]
  },
  {
   "cell_type": "markdown",
   "id": "fef88d0a",
   "metadata": {},
   "source": [
    "**The independent variable is also known as the predictor variable, and the dependent variables are also known as the output variables.**"
   ]
  },
  {
   "cell_type": "markdown",
   "id": "abfa958d",
   "metadata": {},
   "source": [
    "Linear regression models can be classified into two types depending upon the number of independent variables\n",
    "- Simple linear regression: This is used when the number of independent variables is 1.\n",
    "- Multiple linear regression: This is used when the number of independent variables is more than 1."
   ]
  },
  {
   "cell_type": "markdown",
   "id": "0db181f8",
   "metadata": {},
   "source": [
    "# Best Fit Line"
   ]
  },
  {
   "cell_type": "markdown",
   "id": "d5eef4da",
   "metadata": {},
   "source": [
    "Residual = (y-coordinates of the actual data) - (y-coordinates of the predicted data)"
   ]
  },
  {
   "cell_type": "markdown",
   "id": "c9ff483d",
   "metadata": {},
   "source": [
    "### Ordinary Least square method"
   ]
  },
  {
   "cell_type": "markdown",
   "id": "a988336a",
   "metadata": {},
   "source": [
    "The ordinary least squares method has a criterion of the minimisation of the sum of squares of residuals. Residuals are defined as the difference between the y-coordinates of the actual data and the y-coordinates of the predicted data."
   ]
  },
  {
   "cell_type": "markdown",
   "id": "7ecad70b",
   "metadata": {},
   "source": [
    "Residual sum of squares(RSS) = SUM(Square of each residual)"
   ]
  },
  {
   "cell_type": "markdown",
   "id": "24251591",
   "metadata": {},
   "source": [
    "RSS is an absolute quantity and depends on the scale of y"
   ]
  },
  {
   "cell_type": "markdown",
   "id": "4bd6107f",
   "metadata": {},
   "source": [
    "Best Fit Regression Line -> The line that minimises the sum of squares of distances of points from the regression line"
   ]
  },
  {
   "cell_type": "markdown",
   "id": "0c58f3e4",
   "metadata": {},
   "source": [
    "The equation of the best fit regression line Y = β₀ + β₁X can be found by minimising the cost function (RSS in this case, using the ordinary least squares method)"
   ]
  },
  {
   "cell_type": "markdown",
   "id": "24bd92c9",
   "metadata": {},
   "source": [
    "Ways to mimimize cost function\n",
    "- Differentiation\n",
    "- Gradient descent "
   ]
  },
  {
   "cell_type": "markdown",
   "id": "141abf97",
   "metadata": {},
   "source": [
    "# Cost function"
   ]
  },
  {
   "cell_type": "markdown",
   "id": "ee240166",
   "metadata": {},
   "source": [
    "Cost function for linear regression, which is also known as MSE (Mean Squared Error). MSE computes the 'goodness of fit' for a fitted line. The cost function takes two values, i.e. \n",
    "(m,c) where m is the coefficient and c is the intercept. The cost function iterates through each point in the given dataset and then computes the sum of the square distance between each point and the line."
   ]
  },
  {
   "cell_type": "markdown",
   "id": "bac7abb6",
   "metadata": {},
   "source": [
    "Cost function J(m,c) ->  sum of squared errors"
   ]
  },
  {
   "cell_type": "markdown",
   "id": "b09ffe99",
   "metadata": {},
   "source": [
    "Our goal is to minimise the cost function, which will result in lower error values. If we minimise the cost function, we will get the best fit line to our data. "
   ]
  },
  {
   "cell_type": "markdown",
   "id": "1a41e5ce",
   "metadata": {},
   "source": [
    "### Two types of optimisation: \n",
    "Constrained and unconstrained optimisation"
   ]
  },
  {
   "cell_type": "markdown",
   "id": "cd072a5f",
   "metadata": {},
   "source": [
    "### Two ways to go about unconstrained optimisation: \n",
    "Differentiation and using gradient descent."
   ]
  },
  {
   "cell_type": "markdown",
   "id": "10477f54",
   "metadata": {},
   "source": [
    "### Unconstrained minimisation can be solved using two methods:\n",
    "\n",
    "- Closed form method: The function to be minimised is simply differentiated and equated to 0 to achieve a solution. The solution is also double differentiated to check if the solution is greater than 0.\n",
    "\n",
    "- Gradient Descent: It is an iterative minimisation method which reaches the minima step by step. You start with an initial assumed value of the parameter. This initial assumed value can be anything (say X0). Then you assume alpha which is rate of learning. For that value (X0), you calculate the output of the differentiated function which we denote as f'(x). Then the new value of the parameter becomes x -f'(x)*alpha . You continue the process until the algorithm reaches an optimum point i.e the value of the parameter does not change effectively after this point. "
   ]
  },
  {
   "cell_type": "markdown",
   "id": "43cd397c",
   "metadata": {},
   "source": [
    "The 'learning_rate' variable controls the steps we take in downward direction in each iteration. If 'learning_rate' is too low, the algorithm may take longer to reach the minimum value. On the other hand, if it is high, the algorithm may overstep the minimum value."
   ]
  },
  {
   "cell_type": "markdown",
   "id": "8ebea922",
   "metadata": {},
   "source": [
    "The parameter alpha is the learning rate and its magnitude decides the magnitude of the iterative steps. The range of α is (0,1] however large values of alpha for example,  alpha > 0.5 are not preferred as the algorithm might miss the minima."
   ]
  },
  {
   "cell_type": "markdown",
   "id": "811142ed",
   "metadata": {},
   "source": [
    "### Differentiation : Closed form solution"
   ]
  },
  {
   "cell_type": "markdown",
   "id": "7b78148e",
   "metadata": {},
   "source": [
    "To minimise the sum of squared errors and find the optimal 'm' and 'c', we differentiate the sum of squared errors w.r.t the parameters 'm' and 'c'. "
   ]
  },
  {
   "cell_type": "markdown",
   "id": "d25b12b9",
   "metadata": {},
   "source": [
    "Cost function J(m) \n",
    "- At minima, J'(m) = 0 ( equate first differential to 0 ). Find optimal m"
   ]
  },
  {
   "cell_type": "markdown",
   "id": "cc06a336",
   "metadata": {},
   "source": [
    "Cost function J(m, c) .\n",
    "- J'(m) = 0 ( equate first differential to 0 )\n",
    "- J'(c) = 0 ( equate first differential to 0 )\n",
    "- We get two linear equations"
   ]
  },
  {
   "cell_type": "markdown",
   "id": "1e73f0c2",
   "metadata": {},
   "source": [
    "Solve the linear equations to obtain the values of 'm' and 'c'"
   ]
  },
  {
   "cell_type": "markdown",
   "id": "6cf78eef",
   "metadata": {},
   "source": [
    "### Minimising and maximising a function\n",
    "- For minimisation – the function value of the double differential should be greater than 0.\n",
    "- For maximisation - the function value of the double differential should be less than 0."
   ]
  },
  {
   "cell_type": "markdown",
   "id": "fa2dfebd",
   "metadata": {},
   "source": [
    "There were no restrictions on the values the function parameters - 'm' and 'c'. This is known as unconstrained minimisation."
   ]
  },
  {
   "cell_type": "markdown",
   "id": "94aee48f",
   "metadata": {},
   "source": [
    "### Gradient descent : Iterative form solution"
   ]
  },
  {
   "cell_type": "markdown",
   "id": "ee3424d3",
   "metadata": {},
   "source": [
    "Gradient descent is an optimisation algorithm that optimises the objective function (cost function for linear regression) to reach the optimal solution."
   ]
  },
  {
   "cell_type": "markdown",
   "id": "876971b3",
   "metadata": {},
   "source": [
    "https://towardsdatascience.com/gradient-descent-simply-explained-1d2baa65c757"
   ]
  },
  {
   "cell_type": "markdown",
   "id": "3349975f",
   "metadata": {},
   "source": [
    "Rregression line Y = β₀ + β₁X where β₀ is the intercept of the fitted line and β₁ is the coefficient for the independent variable x"
   ]
  },
  {
   "cell_type": "markdown",
   "id": "f2c87d39",
   "metadata": {},
   "source": [
    "Given f(x), alpha and x0 -> Find f'(x) -> Compute (x-f'(x)*alpha) for each x"
   ]
  },
  {
   "cell_type": "markdown",
   "id": "716facc1",
   "metadata": {},
   "source": [
    "alpha is the learning rate, which defines the speed at which we want to move towards negative of the gradient. A large value of learning rate may oscillate your solution, and you may skip the optimal solution (global minima). So it's always a good practice to choose a small value of learning rate and slowly move towards the negative of the gradient."
   ]
  },
  {
   "cell_type": "markdown",
   "id": "ec023dc2",
   "metadata": {},
   "source": [
    "Though gradient descent looks complicated for a 1D function, it's easier to compute the optimal minima using gradient descent for higher dimension function. "
   ]
  },
  {
   "cell_type": "markdown",
   "id": "9f5c3824",
   "metadata": {},
   "source": [
    "# Strength of Simple Linear Regression"
   ]
  },
  {
   "cell_type": "markdown",
   "id": "681d45f8",
   "metadata": {},
   "source": [
    "1. R² or Coefficient of Determination\n",
    "2. Residual Standard Error (RSE)"
   ]
  },
  {
   "cell_type": "markdown",
   "id": "ec9cb1f9",
   "metadata": {},
   "source": [
    "**The strength of a linear regression model is mainly explained by R².** Overall, the higher the R-squared, the better the model fits your data.\n",
    "\n",
    "Goodness of fit or checking the accuracy of your model -> R² = 1 - (RSS/TSS)\n",
    "\n",
    "R² = ( variablity in Y explained by the model / total variablity in Y)"
   ]
  },
  {
   "cell_type": "markdown",
   "id": "e9b99199",
   "metadata": {},
   "source": [
    "RSS: Residual sum of squares -> In statistics, it is defined as the total sum of error across the whole sample. It is the measure of the difference between the expected and the actual output. A small RSS indicates a tight fit of the model to the data.\n",
    "    \n",
    "TSS: Total sum of squares -> It is the sum of errors of the data points from mean of response variable.\n"
   ]
  },
  {
   "cell_type": "markdown",
   "id": "0f9503a7",
   "metadata": {},
   "source": [
    "The value of R-squared lies between 0 and 1, where 1 implies that the variance in the data is being explained by the model, and 0 implies that none of the variance values is being explained by the model. Obviously, it is very difficult to achieve either of the extreme values."
   ]
  },
  {
   "cell_type": "markdown",
   "id": "82706e9c",
   "metadata": {},
   "source": [
    "R^2 is a relative measure and  normalizes with TSS"
   ]
  },
  {
   "cell_type": "markdown",
   "id": "034b80e5",
   "metadata": {},
   "source": [
    "**RSE helps in measuring the lack of fit of a model on a given data.**\n",
    "The closeness of the estimated regression coefficients to the true ones can be estimated using RSE. "
   ]
  },
  {
   "cell_type": "markdown",
   "id": "1823886a",
   "metadata": {},
   "source": [
    "RSE = SQRT(RSS/df) where df = n-2 and n is the number of data points"
   ]
  },
  {
   "cell_type": "markdown",
   "id": "3e7b8b48",
   "metadata": {},
   "source": [
    "The RMSE:\n",
    " - depends on the units of the Y variables\n",
    " - is NOT a normalized measure\n",
    " \n",
    "While it can't really tell you of the gooodness of the particular model, it can help you compare models. \n",
    "\n",
    "A better measure is R squared, which is normalized."
   ]
  },
  {
   "cell_type": "markdown",
   "id": "5e10bc33",
   "metadata": {},
   "source": [
    "# Assumptions of Simple Linear Regression"
   ]
  },
  {
   "cell_type": "markdown",
   "id": "319b0caf",
   "metadata": {},
   "source": [
    "### There is a linear relationship between X and Y\n",
    "\n",
    "- X and Y should display some sort of a linear relationship; otherwise, there is no use of fitting a linear model between them."
   ]
  },
  {
   "cell_type": "markdown",
   "id": "28b9b772",
   "metadata": {},
   "source": [
    "### Error terms are normally distributed with mean zero(not X, Y)\n",
    "\n",
    "- There is no problem if the error terms are not normally distributed if you just wish to fit a line and not make any further interpretations.\n",
    "- But if you are willing to make some inferences on the model that you have built, you need to have a notion of the distribution of the error terms. One particular repercussion of the error terms not being normally distributed is that the p-values obtained during the hypothesis test to determine the significance of the coefficients become unreliable. \n",
    "- The assumption of normality is made, as it has been observed that the error terms generally follow a normal distribution with mean equal to zero in most cases."
   ]
  },
  {
   "cell_type": "markdown",
   "id": "98348bb3",
   "metadata": {},
   "source": [
    "The residuals are normally distributed around zero, i.e. their mean is equal to zero. Hence, the sum of residuals should also be zero."
   ]
  },
  {
   "cell_type": "markdown",
   "id": "86008b86",
   "metadata": {},
   "source": [
    "The normal distribution of the residual terms is a very crucial assumption when it comes to making inferences from a linear regression model. Hence, it is very important that you analyse these residual terms before you can move forward. The simplest method to check for the normality is to plot a histogram of the error terms and check whether the error terms are normal."
   ]
  },
  {
   "cell_type": "markdown",
   "id": "f32ce9d6",
   "metadata": {},
   "source": [
    "### Error terms are independent of each other:\n",
    "- The error terms should not be dependent on one another (like in a time-series data wherein the next value is dependent on the previous one).\n"
   ]
  },
  {
   "cell_type": "markdown",
   "id": "1b3ffd7c",
   "metadata": {},
   "source": [
    "Check for visible patterns in the error terms in order to determine that these terms have a constant variance."
   ]
  },
  {
   "cell_type": "markdown",
   "id": "7a3e2e26",
   "metadata": {},
   "source": [
    "### Error terms have constant variance (homoscedasticity):\n",
    "\n",
    "- The variance should not increase (or decrease) as the error values change.\n",
    "- Also, the variance should not follow any pattern as the error terms change."
   ]
  },
  {
   "cell_type": "markdown",
   "id": "cf38b6f3",
   "metadata": {},
   "source": [
    "### No assumptions on the individual distributions of X and Y"
   ]
  },
  {
   "cell_type": "markdown",
   "id": "de185c1a",
   "metadata": {},
   "source": [
    "# Simple Linear Regression"
   ]
  },
  {
   "cell_type": "markdown",
   "id": "7d429773",
   "metadata": {},
   "source": [
    "## Step 1: Reading and Understanding the Data\n",
    "\n",
    "1. Importing data using the pandas library\n",
    "2. Understanding the structure of the data"
   ]
  },
  {
   "cell_type": "code",
   "execution_count": 13,
   "id": "a9599a23",
   "metadata": {},
   "outputs": [],
   "source": [
    "# Supress Warnings\n",
    "\n",
    "import warnings\n",
    "warnings.filterwarnings('ignore')"
   ]
  },
  {
   "cell_type": "code",
   "execution_count": 14,
   "id": "6b3d2654",
   "metadata": {},
   "outputs": [],
   "source": [
    "# Import the numpy and pandas package\n",
    "\n",
    "import numpy as np\n",
    "import pandas as pd"
   ]
  },
  {
   "cell_type": "code",
   "execution_count": 15,
   "id": "daaae628",
   "metadata": {},
   "outputs": [
    {
     "data": {
      "text/html": [
       "<div>\n",
       "<style scoped>\n",
       "    .dataframe tbody tr th:only-of-type {\n",
       "        vertical-align: middle;\n",
       "    }\n",
       "\n",
       "    .dataframe tbody tr th {\n",
       "        vertical-align: top;\n",
       "    }\n",
       "\n",
       "    .dataframe thead th {\n",
       "        text-align: right;\n",
       "    }\n",
       "</style>\n",
       "<table border=\"1\" class=\"dataframe\">\n",
       "  <thead>\n",
       "    <tr style=\"text-align: right;\">\n",
       "      <th></th>\n",
       "      <th>TV</th>\n",
       "      <th>Radio</th>\n",
       "      <th>Newspaper</th>\n",
       "      <th>Sales</th>\n",
       "    </tr>\n",
       "  </thead>\n",
       "  <tbody>\n",
       "    <tr>\n",
       "      <th>0</th>\n",
       "      <td>230.1</td>\n",
       "      <td>37.8</td>\n",
       "      <td>69.2</td>\n",
       "      <td>22.1</td>\n",
       "    </tr>\n",
       "    <tr>\n",
       "      <th>1</th>\n",
       "      <td>44.5</td>\n",
       "      <td>39.3</td>\n",
       "      <td>45.1</td>\n",
       "      <td>10.4</td>\n",
       "    </tr>\n",
       "    <tr>\n",
       "      <th>2</th>\n",
       "      <td>17.2</td>\n",
       "      <td>45.9</td>\n",
       "      <td>69.3</td>\n",
       "      <td>12.0</td>\n",
       "    </tr>\n",
       "    <tr>\n",
       "      <th>3</th>\n",
       "      <td>151.5</td>\n",
       "      <td>41.3</td>\n",
       "      <td>58.5</td>\n",
       "      <td>16.5</td>\n",
       "    </tr>\n",
       "    <tr>\n",
       "      <th>4</th>\n",
       "      <td>180.8</td>\n",
       "      <td>10.8</td>\n",
       "      <td>58.4</td>\n",
       "      <td>17.9</td>\n",
       "    </tr>\n",
       "  </tbody>\n",
       "</table>\n",
       "</div>"
      ],
      "text/plain": [
       "      TV  Radio  Newspaper  Sales\n",
       "0  230.1   37.8       69.2   22.1\n",
       "1   44.5   39.3       45.1   10.4\n",
       "2   17.2   45.9       69.3   12.0\n",
       "3  151.5   41.3       58.5   16.5\n",
       "4  180.8   10.8       58.4   17.9"
      ]
     },
     "execution_count": 15,
     "metadata": {},
     "output_type": "execute_result"
    }
   ],
   "source": [
    "# Read the given CSV file, and view some sample records\n",
    "\n",
    "advertising = pd.read_csv(\"advertising.csv\")\n",
    "advertising.head()"
   ]
  },
  {
   "cell_type": "code",
   "execution_count": 16,
   "id": "839eddbf",
   "metadata": {},
   "outputs": [
    {
     "data": {
      "text/plain": [
       "(200, 4)"
      ]
     },
     "execution_count": 16,
     "metadata": {},
     "output_type": "execute_result"
    }
   ],
   "source": [
    "advertising.shape"
   ]
  },
  {
   "cell_type": "code",
   "execution_count": 17,
   "id": "1da51f5f",
   "metadata": {},
   "outputs": [
    {
     "name": "stdout",
     "output_type": "stream",
     "text": [
      "<class 'pandas.core.frame.DataFrame'>\n",
      "RangeIndex: 200 entries, 0 to 199\n",
      "Data columns (total 4 columns):\n",
      " #   Column     Non-Null Count  Dtype  \n",
      "---  ------     --------------  -----  \n",
      " 0   TV         200 non-null    float64\n",
      " 1   Radio      200 non-null    float64\n",
      " 2   Newspaper  200 non-null    float64\n",
      " 3   Sales      200 non-null    float64\n",
      "dtypes: float64(4)\n",
      "memory usage: 6.4 KB\n"
     ]
    }
   ],
   "source": [
    "advertising.info()"
   ]
  },
  {
   "cell_type": "code",
   "execution_count": 18,
   "id": "f7e71210",
   "metadata": {},
   "outputs": [
    {
     "data": {
      "text/html": [
       "<div>\n",
       "<style scoped>\n",
       "    .dataframe tbody tr th:only-of-type {\n",
       "        vertical-align: middle;\n",
       "    }\n",
       "\n",
       "    .dataframe tbody tr th {\n",
       "        vertical-align: top;\n",
       "    }\n",
       "\n",
       "    .dataframe thead th {\n",
       "        text-align: right;\n",
       "    }\n",
       "</style>\n",
       "<table border=\"1\" class=\"dataframe\">\n",
       "  <thead>\n",
       "    <tr style=\"text-align: right;\">\n",
       "      <th></th>\n",
       "      <th>TV</th>\n",
       "      <th>Radio</th>\n",
       "      <th>Newspaper</th>\n",
       "      <th>Sales</th>\n",
       "    </tr>\n",
       "  </thead>\n",
       "  <tbody>\n",
       "    <tr>\n",
       "      <th>count</th>\n",
       "      <td>200.000000</td>\n",
       "      <td>200.000000</td>\n",
       "      <td>200.000000</td>\n",
       "      <td>200.000000</td>\n",
       "    </tr>\n",
       "    <tr>\n",
       "      <th>mean</th>\n",
       "      <td>147.042500</td>\n",
       "      <td>23.264000</td>\n",
       "      <td>30.554000</td>\n",
       "      <td>15.130500</td>\n",
       "    </tr>\n",
       "    <tr>\n",
       "      <th>std</th>\n",
       "      <td>85.854236</td>\n",
       "      <td>14.846809</td>\n",
       "      <td>21.778621</td>\n",
       "      <td>5.283892</td>\n",
       "    </tr>\n",
       "    <tr>\n",
       "      <th>min</th>\n",
       "      <td>0.700000</td>\n",
       "      <td>0.000000</td>\n",
       "      <td>0.300000</td>\n",
       "      <td>1.600000</td>\n",
       "    </tr>\n",
       "    <tr>\n",
       "      <th>25%</th>\n",
       "      <td>74.375000</td>\n",
       "      <td>9.975000</td>\n",
       "      <td>12.750000</td>\n",
       "      <td>11.000000</td>\n",
       "    </tr>\n",
       "    <tr>\n",
       "      <th>50%</th>\n",
       "      <td>149.750000</td>\n",
       "      <td>22.900000</td>\n",
       "      <td>25.750000</td>\n",
       "      <td>16.000000</td>\n",
       "    </tr>\n",
       "    <tr>\n",
       "      <th>75%</th>\n",
       "      <td>218.825000</td>\n",
       "      <td>36.525000</td>\n",
       "      <td>45.100000</td>\n",
       "      <td>19.050000</td>\n",
       "    </tr>\n",
       "    <tr>\n",
       "      <th>max</th>\n",
       "      <td>296.400000</td>\n",
       "      <td>49.600000</td>\n",
       "      <td>114.000000</td>\n",
       "      <td>27.000000</td>\n",
       "    </tr>\n",
       "  </tbody>\n",
       "</table>\n",
       "</div>"
      ],
      "text/plain": [
       "               TV       Radio   Newspaper       Sales\n",
       "count  200.000000  200.000000  200.000000  200.000000\n",
       "mean   147.042500   23.264000   30.554000   15.130500\n",
       "std     85.854236   14.846809   21.778621    5.283892\n",
       "min      0.700000    0.000000    0.300000    1.600000\n",
       "25%     74.375000    9.975000   12.750000   11.000000\n",
       "50%    149.750000   22.900000   25.750000   16.000000\n",
       "75%    218.825000   36.525000   45.100000   19.050000\n",
       "max    296.400000   49.600000  114.000000   27.000000"
      ]
     },
     "execution_count": 18,
     "metadata": {},
     "output_type": "execute_result"
    }
   ],
   "source": [
    "advertising.describe()"
   ]
  },
  {
   "cell_type": "markdown",
   "id": "463ed699",
   "metadata": {},
   "source": [
    "## Step 2: Visualising the Data"
   ]
  },
  {
   "cell_type": "code",
   "execution_count": 19,
   "id": "e8df217d",
   "metadata": {},
   "outputs": [],
   "source": [
    "import matplotlib.pyplot as plt \n",
    "import seaborn as sns"
   ]
  },
  {
   "cell_type": "code",
   "execution_count": 24,
   "id": "6e21e704",
   "metadata": {},
   "outputs": [
    {
     "data": {
      "image/png": "[encoded data removed]",
      "text/plain": [
       "<Figure size 432x288 with 1 Axes>"
      ]
     },
     "metadata": {
      "needs_background": "light"
     },
     "output_type": "display_data"
    }
   ],
   "source": [
    "sns.regplot(x='TV', y= 'Sales', data = advertising )\n",
    "plt.show()"
   ]
  },
  {
   "cell_type": "code",
   "execution_count": 25,
   "id": "74a6be0f",
   "metadata": {},
   "outputs": [
    {
     "data": {
      "image/png": "[encoded data removed]",
      "text/plain": [
       "<Figure size 432x288 with 1 Axes>"
      ]
     },
     "metadata": {
      "needs_background": "light"
     },
     "output_type": "display_data"
    }
   ],
   "source": [
    "sns.regplot(x='Newspaper', y= 'Sales', data = advertising )\n",
    "plt.show()"
   ]
  },
  {
   "cell_type": "code",
   "execution_count": 26,
   "id": "359b6012",
   "metadata": {},
   "outputs": [
    {
     "data": {
      "image/png": "[encoded data removed]",
      "text/plain": [
       "<Figure size 432x288 with 1 Axes>"
      ]
     },
     "metadata": {
      "needs_background": "light"
     },
     "output_type": "display_data"
    }
   ],
   "source": [
    "sns.regplot(x='Radio', y= 'Sales', data = advertising )\n",
    "plt.show()"
   ]
  },
  {
   "cell_type": "code",
   "execution_count": 20,
   "id": "072b0a2a",
   "metadata": {},
   "outputs": [
    {
     "data": {
      "image/png": "[encoded data removed]",
      "text/plain": [
       "<Figure size 864x288 with 3 Axes>"
      ]
     },
     "metadata": {
      "needs_background": "light"
     },
     "output_type": "display_data"
    }
   ],
   "source": [
    "sns.pairplot(advertising, x_vars=['TV', 'Newspaper', 'Radio'], y_vars='Sales',size=4, aspect=1, kind='scatter')\n",
    "plt.show()"
   ]
  },
  {
   "cell_type": "code",
   "execution_count": 27,
   "id": "9252bbe6",
   "metadata": {},
   "outputs": [
    {
     "data": {
      "image/png": "[encoded data removed]",
      "text/plain": [
       "<Figure size 432x288 with 2 Axes>"
      ]
     },
     "metadata": {
      "needs_background": "light"
     },
     "output_type": "display_data"
    }
   ],
   "source": [
    "sns.heatmap(advertising.corr(), cmap=\"RdYlGn\", annot = True)\n",
    "plt.show()"
   ]
  },
  {
   "cell_type": "markdown",
   "id": "72ecfa70",
   "metadata": {},
   "source": [
    "‘TV’ has the strongest correlation with ‘Sales’. Sales and TV are linearly correlated. "
   ]
  },
  {
   "cell_type": "markdown",
   "id": "ef351ab8",
   "metadata": {},
   "source": [
    "# Hypothesis Testing in Linear Regression\n"
   ]
  },
  {
   "cell_type": "markdown",
   "id": "a1984e7c",
   "metadata": {},
   "source": [
    "Fit a straight line through the data -> Y = β₀ + β₁X where β₀ is the intercept and β₁ is the slope . “Is this straight line a significant fit for the data?\""
   ]
  },
  {
   "cell_type": "markdown",
   "id": "2f1b4639",
   "metadata": {},
   "source": [
    "Is the beta coefficient significant to the extent that it is helping in explaining the variance in the data plotted? -> Test whether the fitted line is a significant one or not, you need to test whether β₁ is significant or not.  "
   ]
  },
  {
   "cell_type": "markdown",
   "id": "f0611b45",
   "metadata": {},
   "source": [
    "Perform a hypothesis test on the beta coefficient\n",
    "- Null Hypothesis  : β₁ is not significant i.e. there is no relationship between X and y. -> β₁ = 0\n",
    "- Alternate Hypothesis : β₁ != 0"
   ]
  },
  {
   "cell_type": "markdown",
   "id": "a916e4e0",
   "metadata": {},
   "source": [
    "- If you fail to reject the null hypothesis that would mean that β₁ is zero which would simply mean that β₁ is insignificant and of no use in the model.\n",
    "- if you reject the null hypothesis, it would mean that β₁ is not zero and the line fitted is a significant one."
   ]
  },
  {
   "cell_type": "markdown",
   "id": "6a2e35a6",
   "metadata": {},
   "source": [
    "The t-statistic along with the t-distribution table is used to determine the p-value of the coefficient.\n",
    "\n",
    "\n",
    "#### t-score for β₁ ( Null hypothesis -> β₁ = 0)\n",
    "t =  (β₁ - 0)/ SE(β₁)\n",
    "\n",
    "This test statistic is follows a student’s t-distribution with (n-2) degrees of freedom. The p-value is then calculated on this test statistic in order to determine whether the coefficient is significant or not."
   ]
  },
  {
   "cell_type": "markdown",
   "id": "717e7bbf",
   "metadata": {},
   "source": [
    "- Calculate the value of t-score for the mean point (in this case, zero, according to the Null hypothesis that we have stated) on the distribution\n",
    "- Calculate the p-value from the cumulative probability for the given t-score using the t-table\n",
    "- Make the decision on the basis of the p-value with respect to the given value of β  (significance level)"
   ]
  },
  {
   "cell_type": "markdown",
   "id": "08de58f3",
   "metadata": {},
   "source": [
    "Now, if the p-value turns out to be less than 0.05, you can reject the null hypothesis and state that β₁ is indeed significant."
   ]
  },
  {
   "cell_type": "markdown",
   "id": "7852839b",
   "metadata": {},
   "source": [
    "### Question"
   ]
  },
  {
   "cell_type": "markdown",
   "id": "01a980c0",
   "metadata": {},
   "source": [
    "#### 1. Suppose that for a linear model, you got β₁ as 0.5. Also, the standard error of β₁ was found out to be 0.02. \n",
    "What will be the value of t-score?\n",
    "\n",
    "t-score = 0.5/0.0.2 = 25"
   ]
  },
  {
   "cell_type": "markdown",
   "id": "e278d019",
   "metadata": {},
   "source": [
    "#### 2. What can you say about the significance of β₁?\n",
    "\n",
    "β₁ is significant.\n",
    "A value as big as 25 means a practically zero p-value which in turn means that the variable is significant. \n"
   ]
  },
  {
   "cell_type": "markdown",
   "id": "38abd6b0",
   "metadata": {},
   "source": [
    "\n",
    "## Step 3: Performing Simple Linear Regression\n",
    "\n",
    "Equation of linear regression<br>\n",
    "$y = c + m_1x_1 + m_2x_2 + ... + m_nx_n$\n",
    "\n",
    "-  $y$ is the response\n",
    "-  $c$ is the intercept\n",
    "-  $m_1$ is the coefficient for the first feature\n",
    "-  $m_n$ is the coefficient for the nth feature<br>\n",
    "\n",
    "\n",
    "The $m$ values are called the model **coefficients** or **model parameters**.\n"
   ]
  },
  {
   "cell_type": "markdown",
   "id": "149794ab",
   "metadata": {},
   "source": [
    "In our case: $y = c + m \\times TV$"
   ]
  },
  {
   "cell_type": "code",
   "execution_count": 45,
   "id": "aaf9ac88",
   "metadata": {},
   "outputs": [],
   "source": [
    "import sklearn"
   ]
  },
  {
   "cell_type": "markdown",
   "id": "a7e256fc",
   "metadata": {},
   "source": [
    "#### Steps\n",
    "1. Create X and y\n",
    "2. Create train and test sets (70-30 or 80-20)\n",
    "3. Train your model on the training set( learn the coefficients)\n",
    "4. Evaluate the model "
   ]
  },
  {
   "cell_type": "markdown",
   "id": "daf05e57",
   "metadata": {},
   "source": [
    "We first assign the feature variable, `TV`, in this case, to the variable `X` and the response variable, `Sales`, to the variable `y`."
   ]
  },
  {
   "cell_type": "code",
   "execution_count": 41,
   "id": "e026e0d0",
   "metadata": {},
   "outputs": [],
   "source": [
    "# Create X and y\n",
    "\n",
    "X = advertising['TV']\n",
    "y = advertising['Sales']"
   ]
  },
  {
   "cell_type": "markdown",
   "id": "ff93fba9",
   "metadata": {},
   "source": [
    "#### Train-Test Split\n",
    "\n",
    "You now need to split our variable into training and testing sets. You'll perform this by importing `train_test_split` from the `sklearn.model_selection` library. It is usually a good practice to keep 70% of the data in your train dataset and the rest 30% in your test dataset"
   ]
  },
  {
   "cell_type": "code",
   "execution_count": 44,
   "id": "26fb505f",
   "metadata": {},
   "outputs": [],
   "source": [
    "from sklearn.model_selection import train_test_split\n",
    "\n",
    "X_train, X_test, y_train, y_test = train_test_split(X, y, train_size=0.7, test_size=0.3, random_state=100)\n",
    "\n",
    "# random_state = 100 -> sampling is random -> same 70-30 split use 100"
   ]
  },
  {
   "cell_type": "markdown",
   "id": "2fe12e56",
   "metadata": {},
   "source": []
  },
  {
   "cell_type": "markdown",
   "id": "b004ba78",
   "metadata": {},
   "source": []
  },
  {
   "cell_type": "markdown",
   "id": "0c6a67b6",
   "metadata": {},
   "source": [
    "# Linear Regression using `statsmodels`"
   ]
  },
  {
   "cell_type": "markdown",
   "id": "abe1d3eb",
   "metadata": {},
   "source": [
    "#### Building a Linear Model\n",
    "\n",
    "You first need to import the `statsmodel.api` library using which you'll perform the linear regression."
   ]
  },
  {
   "cell_type": "code",
   "execution_count": 61,
   "id": "6a124e0b",
   "metadata": {},
   "outputs": [],
   "source": [
    "import statsmodels.api as sm"
   ]
  },
  {
   "cell_type": "markdown",
   "id": "2c20f107",
   "metadata": {},
   "source": [
    "By default, the `statsmodels` library fits a line on the dataset which passes through the **origin**. But in order to have an **intercept, you need to manually use the `add_constant` attribute of `statsmodels`**. And once you've added the constant to your `X_train` dataset, you can go ahead and fit a regression line using the `OLS` (Ordinary Least Squares) attribute of `statsmodels`"
   ]
  },
  {
   "cell_type": "code",
   "execution_count": 62,
   "id": "1f90c28b",
   "metadata": {},
   "outputs": [
    {
     "data": {
      "text/html": [
       "<div>\n",
       "<style scoped>\n",
       "    .dataframe tbody tr th:only-of-type {\n",
       "        vertical-align: middle;\n",
       "    }\n",
       "\n",
       "    .dataframe tbody tr th {\n",
       "        vertical-align: top;\n",
       "    }\n",
       "\n",
       "    .dataframe thead th {\n",
       "        text-align: right;\n",
       "    }\n",
       "</style>\n",
       "<table border=\"1\" class=\"dataframe\">\n",
       "  <thead>\n",
       "    <tr style=\"text-align: right;\">\n",
       "      <th></th>\n",
       "      <th>const</th>\n",
       "      <th>TV</th>\n",
       "    </tr>\n",
       "  </thead>\n",
       "  <tbody>\n",
       "    <tr>\n",
       "      <th>74</th>\n",
       "      <td>1.0</td>\n",
       "      <td>213.4</td>\n",
       "    </tr>\n",
       "    <tr>\n",
       "      <th>3</th>\n",
       "      <td>1.0</td>\n",
       "      <td>151.5</td>\n",
       "    </tr>\n",
       "    <tr>\n",
       "      <th>185</th>\n",
       "      <td>1.0</td>\n",
       "      <td>205.0</td>\n",
       "    </tr>\n",
       "    <tr>\n",
       "      <th>26</th>\n",
       "      <td>1.0</td>\n",
       "      <td>142.9</td>\n",
       "    </tr>\n",
       "    <tr>\n",
       "      <th>90</th>\n",
       "      <td>1.0</td>\n",
       "      <td>134.3</td>\n",
       "    </tr>\n",
       "  </tbody>\n",
       "</table>\n",
       "</div>"
      ],
      "text/plain": [
       "     const     TV\n",
       "74     1.0  213.4\n",
       "3      1.0  151.5\n",
       "185    1.0  205.0\n",
       "26     1.0  142.9\n",
       "90     1.0  134.3"
      ]
     },
     "execution_count": 62,
     "metadata": {},
     "output_type": "execute_result"
    }
   ],
   "source": [
    "# Add a constant to get an intercept\n",
    "# If you don't use this command, it will fit a line passing through the origin by default.\n",
    "X_train_sm = sm.add_constant(X_train)\n",
    "X_train_sm.head()"
   ]
  },
  {
   "cell_type": "code",
   "execution_count": 63,
   "id": "a0756720",
   "metadata": {},
   "outputs": [],
   "source": [
    "# Fit the resgression line using 'OLS'\n",
    "# OLS stands for Ordinary Least Squares, which is the method that 'statsmodels' use to fit the line.\n",
    "lr_model = sm.OLS(y_train, X_train_sm).fit()"
   ]
  },
  {
   "cell_type": "code",
   "execution_count": 64,
   "id": "081d1ecf",
   "metadata": {},
   "outputs": [
    {
     "data": {
      "text/plain": [
       "const    6.948683\n",
       "TV       0.054546\n",
       "dtype: float64"
      ]
     },
     "execution_count": 64,
     "metadata": {},
     "output_type": "execute_result"
    }
   ],
   "source": [
    "# Print the parameters, i.e. the intercept and the slope of the regression line fitted\n",
    "lr_model.params"
   ]
  },
  {
   "cell_type": "code",
   "execution_count": 65,
   "id": "4e3e4fbe",
   "metadata": {},
   "outputs": [],
   "source": [
    "# Sales = 6.94 + 0.05 * TV"
   ]
  },
  {
   "cell_type": "code",
   "execution_count": 66,
   "id": "c328f052",
   "metadata": {},
   "outputs": [
    {
     "data": {
      "text/html": [
       "<table class=\"simpletable\">\n",
       "<caption>OLS Regression Results</caption>\n",
       "<tr>\n",
       "  <th>Dep. Variable:</th>          <td>Sales</td>      <th>  R-squared:         </th> <td>   0.816</td>\n",
       "</tr>\n",
       "<tr>\n",
       "  <th>Model:</th>                   <td>OLS</td>       <th>  Adj. R-squared:    </th> <td>   0.814</td>\n",
       "</tr>\n",
       "<tr>\n",
       "  <th>Method:</th>             <td>Least Squares</td>  <th>  F-statistic:       </th> <td>   611.2</td>\n",
       "</tr>\n",
       "<tr>\n",
       "  <th>Date:</th>             <td>Tue, 28 Jun 2022</td> <th>  Prob (F-statistic):</th> <td>1.52e-52</td>\n",
       "</tr>\n",
       "<tr>\n",
       "  <th>Time:</th>                 <td>11:18:07</td>     <th>  Log-Likelihood:    </th> <td> -321.12</td>\n",
       "</tr>\n",
       "<tr>\n",
       "  <th>No. Observations:</th>      <td>   140</td>      <th>  AIC:               </th> <td>   646.2</td>\n",
       "</tr>\n",
       "<tr>\n",
       "  <th>Df Residuals:</th>          <td>   138</td>      <th>  BIC:               </th> <td>   652.1</td>\n",
       "</tr>\n",
       "<tr>\n",
       "  <th>Df Model:</th>              <td>     1</td>      <th>                     </th>     <td> </td>   \n",
       "</tr>\n",
       "<tr>\n",
       "  <th>Covariance Type:</th>      <td>nonrobust</td>    <th>                     </th>     <td> </td>   \n",
       "</tr>\n",
       "</table>\n",
       "<table class=\"simpletable\">\n",
       "<tr>\n",
       "    <td></td>       <th>coef</th>     <th>std err</th>      <th>t</th>      <th>P>|t|</th>  <th>[0.025</th>    <th>0.975]</th>  \n",
       "</tr>\n",
       "<tr>\n",
       "  <th>const</th> <td>    6.9487</td> <td>    0.385</td> <td>   18.068</td> <td> 0.000</td> <td>    6.188</td> <td>    7.709</td>\n",
       "</tr>\n",
       "<tr>\n",
       "  <th>TV</th>    <td>    0.0545</td> <td>    0.002</td> <td>   24.722</td> <td> 0.000</td> <td>    0.050</td> <td>    0.059</td>\n",
       "</tr>\n",
       "</table>\n",
       "<table class=\"simpletable\">\n",
       "<tr>\n",
       "  <th>Omnibus:</th>       <td> 0.027</td> <th>  Durbin-Watson:     </th> <td>   2.196</td>\n",
       "</tr>\n",
       "<tr>\n",
       "  <th>Prob(Omnibus):</th> <td> 0.987</td> <th>  Jarque-Bera (JB):  </th> <td>   0.150</td>\n",
       "</tr>\n",
       "<tr>\n",
       "  <th>Skew:</th>          <td>-0.006</td> <th>  Prob(JB):          </th> <td>   0.928</td>\n",
       "</tr>\n",
       "<tr>\n",
       "  <th>Kurtosis:</th>      <td> 2.840</td> <th>  Cond. No.          </th> <td>    328.</td>\n",
       "</tr>\n",
       "</table><br/><br/>Notes:<br/>[1] Standard Errors assume that the covariance matrix of the errors is correctly specified."
      ],
      "text/plain": [
       "<class 'statsmodels.iolib.summary.Summary'>\n",
       "\"\"\"\n",
       "                            OLS Regression Results                            \n",
       "==============================================================================\n",
       "Dep. Variable:                  Sales   R-squared:                       0.816\n",
       "Model:                            OLS   Adj. R-squared:                  0.814\n",
       "Method:                 Least Squares   F-statistic:                     611.2\n",
       "Date:                Tue, 28 Jun 2022   Prob (F-statistic):           1.52e-52\n",
       "Time:                        11:18:07   Log-Likelihood:                -321.12\n",
       "No. Observations:                 140   AIC:                             646.2\n",
       "Df Residuals:                     138   BIC:                             652.1\n",
       "Df Model:                           1                                         \n",
       "Covariance Type:            nonrobust                                         \n",
       "==============================================================================\n",
       "                 coef    std err          t      P>|t|      [0.025      0.975]\n",
       "------------------------------------------------------------------------------\n",
       "const          6.9487      0.385     18.068      0.000       6.188       7.709\n",
       "TV             0.0545      0.002     24.722      0.000       0.050       0.059\n",
       "==============================================================================\n",
       "Omnibus:                        0.027   Durbin-Watson:                   2.196\n",
       "Prob(Omnibus):                  0.987   Jarque-Bera (JB):                0.150\n",
       "Skew:                          -0.006   Prob(JB):                        0.928\n",
       "Kurtosis:                       2.840   Cond. No.                         328.\n",
       "==============================================================================\n",
       "\n",
       "Notes:\n",
       "[1] Standard Errors assume that the covariance matrix of the errors is correctly specified.\n",
       "\"\"\""
      ]
     },
     "execution_count": 66,
     "metadata": {},
     "output_type": "execute_result"
    }
   ],
   "source": [
    "# Performing a summary operation lists out all the different parameters of the regression line fitted\n",
    "lr_model.summary()"
   ]
  },
  {
   "cell_type": "markdown",
   "id": "4a6b12e3",
   "metadata": {},
   "source": [
    "**F-statistic** tells you whether the overall model fit is significant or not. This parameter is examined because many a time it happens that even though all of your betas are significant, but your overall model fit might happen just by chance."
   ]
  },
  {
   "cell_type": "markdown",
   "id": "1b535114",
   "metadata": {},
   "source": [
    "**Prob (F-statistic)** is less than 0.05, you can conclude that the overall model fit is significant. If it is greater than 0.05, you might need to review your model as the fit might be by chance, i.e. the line may have just luckily fit the data. "
   ]
  },
  {
   "cell_type": "markdown",
   "id": "327d886d",
   "metadata": {},
   "source": [
    "If the value of the F-statistic is high, it would mean that the Prob(F) would be low and hence, you can conclude that the model is significant. On the other hand, if the value of F-statistic is low, it might lead to the value of Prob(F) being higher than the significance level (taken 0.05, usually) which in turn would conclude that the overall model fit is insignificant and the intercept-only model can provide a better fit."
   ]
  },
  {
   "cell_type": "markdown",
   "id": "a8fc8852",
   "metadata": {},
   "source": [
    "**R-squared** value tells you exactly how much variance in the data has been explained by the model. "
   ]
  },
  {
   "cell_type": "markdown",
   "id": "e9c0a09a",
   "metadata": {},
   "source": [
    "**Coefficients and p-values**\n",
    "\n",
    "The p-values of the coefficients tell you whether the coefficient is significant or not. zero p-value -> coefficient is indeed significant. "
   ]
  },
  {
   "cell_type": "markdown",
   "id": "b50eb8e4",
   "metadata": {},
   "source": [
    "#### Summary \n",
    "1. Coefficients ( const = 6.948683 and TV = 0.054546)\n",
    "2. p-value = 0 -> Coefficients are significant , the relationship between TV and Sales are not obtained by chance, there is a statistically significant relationship between them\n",
    "3. R-squared:\t0.816 -> pretty high -> 81% variance in Sales is explained by TV\n",
    "4. Prob (F-statistic):\t1.52e-52 -> low -> model fit is statistically significant and the fit is not by chance"
   ]
  },
  {
   "cell_type": "markdown",
   "id": "6f06d4da",
   "metadata": {},
   "source": [
    "##### 1. The coefficient for TV is 0.054, with a very low p value\n",
    "The coefficient is statistically significant. So the association is not purely by chance. "
   ]
  },
  {
   "cell_type": "markdown",
   "id": "36112972",
   "metadata": {},
   "source": [
    "##### 2. R - squared is 0.816\n",
    "Meaning that 81.6% of the variance in `Sales` is explained by `TV`\n",
    "\n",
    "This is a decent R-squared value."
   ]
  },
  {
   "cell_type": "markdown",
   "id": "1b96fa6d",
   "metadata": {},
   "source": [
    "###### 3. F statistic has a very low p value (practically low)\n",
    "Meaning that the model fit is statistically significant, and the explained variance isn't purely by chance."
   ]
  },
  {
   "cell_type": "markdown",
   "id": "398b3a1f",
   "metadata": {},
   "source": [
    "The fit is significant. Let's visualize how well the model fit the data.\n",
    "\n",
    "From the parameters that we get, our linear regression equation becomes:\n",
    "\n",
    "$ Sales = 6.948 + 0.054 \\times TV $"
   ]
  },
  {
   "cell_type": "code",
   "execution_count": 68,
   "id": "6d980e66",
   "metadata": {},
   "outputs": [
    {
     "data": {
      "text/plain": [
       "<matplotlib.collections.PathCollection at 0x19b42e72790>"
      ]
     },
     "execution_count": 68,
     "metadata": {},
     "output_type": "execute_result"
    },
    {
     "data": {
      "image/png": "[encoded data removed]",
      "text/plain": [
       "<Figure size 432x288 with 1 Axes>"
      ]
     },
     "metadata": {
      "needs_background": "light"
     },
     "output_type": "display_data"
    }
   ],
   "source": [
    "plt.scatter(X_train, y_train)"
   ]
  },
  {
   "cell_type": "code",
   "execution_count": 73,
   "id": "31aa5815",
   "metadata": {},
   "outputs": [
    {
     "data": {
      "image/png": "[encoded data removed]",
      "text/plain": [
       "<Figure size 432x288 with 1 Axes>"
      ]
     },
     "metadata": {
      "needs_background": "light"
     },
     "output_type": "display_data"
    }
   ],
   "source": [
    "plt.scatter(X_train, y_train)\n",
    "\n",
    "# y_train_pred = 6.948 + 0.054*X_train\n",
    "y_train_pred = lr_model.predict(X_train_sm)\n",
    "plt.plot(X_train, y_train_pred, 'r')\n",
    "plt.show()"
   ]
  },
  {
   "cell_type": "markdown",
   "id": "163b5821",
   "metadata": {},
   "source": [
    "## Step 4: Residual Analysis \n",
    "To validate assumptions of the linear regression model, we do **analysis on train set**"
   ]
  },
  {
   "cell_type": "markdown",
   "id": "e5163bc1",
   "metadata": {},
   "source": [
    "#### Distribution of the error terms\n",
    "We need to check if the error terms are also **normally distributed with mean equal to 0** (which is infact, one of the major assumptions of linear regression), let us plot the histogram of the error terms and see what it looks like."
   ]
  },
  {
   "cell_type": "code",
   "execution_count": 93,
   "id": "9b5d6ff0",
   "metadata": {},
   "outputs": [],
   "source": [
    "# Predict the values from the trained model on the train set\n",
    "y_train_pred = lr_model.predict(X_train_sm)\n",
    "\n",
    "# Calculate the residuals\n",
    "residual = (y_train - y_train_pred )"
   ]
  },
  {
   "cell_type": "code",
   "execution_count": 77,
   "id": "854affdf",
   "metadata": {},
   "outputs": [
    {
     "data": {
      "image/png": "[encoded data removed]",
      "text/plain": [
       "<Figure size 432x288 with 1 Axes>"
      ]
     },
     "metadata": {
      "needs_background": "light"
     },
     "output_type": "display_data"
    }
   ],
   "source": [
    "# histogram of the error terms\n",
    "\n",
    "fig = plt.figure()\n",
    "\n",
    "sns.distplot(residual, bins = 15)\n",
    "fig.suptitle('Error Terms Distribution', fontsize = 15)                  \n",
    "plt.xlabel('residual', fontsize = 15)        \n",
    "plt.show()"
   ]
  },
  {
   "cell_type": "markdown",
   "id": "e1496d72",
   "metadata": {},
   "source": [
    "The residuals are normally distributed with a mean 0"
   ]
  },
  {
   "cell_type": "markdown",
   "id": "f9119ca4",
   "metadata": {},
   "source": [
    "#### Error terms should be independent of each other\n",
    "\n",
    "You need to plot the error terms, this time with either of X or y to check for any patterns. "
   ]
  },
  {
   "cell_type": "code",
   "execution_count": 79,
   "id": "d1ce6b1d",
   "metadata": {},
   "outputs": [
    {
     "data": {
      "image/png": "[encoded data removed]",
      "text/plain": [
       "<Figure size 432x288 with 1 Axes>"
      ]
     },
     "metadata": {
      "needs_background": "light"
     },
     "output_type": "display_data"
    }
   ],
   "source": [
    "# Looking for patterns in the residuals\n",
    "\n",
    "plt.scatter(X_train,residual)\n",
    "plt.show()"
   ]
  },
  {
   "cell_type": "code",
   "execution_count": 80,
   "id": "b8297bb6",
   "metadata": {},
   "outputs": [
    {
     "data": {
      "image/png": "[encoded data removed]",
      "text/plain": [
       "<Figure size 432x288 with 1 Axes>"
      ]
     },
     "metadata": {
      "needs_background": "light"
     },
     "output_type": "display_data"
    }
   ],
   "source": [
    "plt.scatter(y_train,residual)\n",
    "plt.show()"
   ]
  },
  {
   "cell_type": "markdown",
   "id": "afd95092",
   "metadata": {},
   "source": [
    "There are no visible patterns in the error terms (except for the fact that the variance seems to be increasing a little for the higher values). So, this model fit looks good."
   ]
  },
  {
   "cell_type": "markdown",
   "id": "d0c03992",
   "metadata": {},
   "source": [
    "We are confident that the model fit isn't by chance, and has decent predictive power. The normality of residual terms allows some inference on the coefficients.\n",
    "\n",
    "Although, the variance of residuals increasing with X indicates that there is significant variation that this model is unable to explain."
   ]
  },
  {
   "cell_type": "markdown",
   "id": "196d3614",
   "metadata": {},
   "source": [
    "## Step 5: Predictions on the Test Set\n",
    "\n",
    "Now that you have fitted a regression line on your train dataset, it's time to make some predictions on the test data. For this, you first need to add a constant to the `X_test` data like you did for `X_train` and then you can simply go on and predict the y values corresponding to `X_test` using the `predict` attribute of the fitted regression line."
   ]
  },
  {
   "cell_type": "code",
   "execution_count": 82,
   "id": "b76fe8bb",
   "metadata": {},
   "outputs": [],
   "source": [
    "# Add a constant to X_test\n",
    "X_test_sm = sm.add_constant(X_test)\n",
    "\n",
    "# Predict the y values corresponding to X_test_sm\n",
    "y_pred = lr_model.predict(X_test_sm)"
   ]
  },
  {
   "cell_type": "markdown",
   "id": "2d87ac49",
   "metadata": {},
   "source": [
    "## Step 6: Model Evaluation"
   ]
  },
  {
   "cell_type": "code",
   "execution_count": 83,
   "id": "4a1864bd",
   "metadata": {},
   "outputs": [],
   "source": [
    "from sklearn.metrics import mean_squared_error\n",
    "from sklearn.metrics import r2_score"
   ]
  },
  {
   "cell_type": "code",
   "execution_count": 84,
   "id": "0716faed",
   "metadata": {},
   "outputs": [
    {
     "data": {
      "text/plain": [
       "2.019296008966233"
      ]
     },
     "execution_count": 84,
     "metadata": {},
     "output_type": "execute_result"
    }
   ],
   "source": [
    "# RMSE\n",
    "# Returns the mean squared error; we'll take a square root\n",
    "\n",
    "np.sqrt(mean_squared_error(y_test, y_pred))"
   ]
  },
  {
   "cell_type": "markdown",
   "id": "6627dd95",
   "metadata": {},
   "source": [
    "RMSE (Root Mean Squared Error) is a metric that tells you the deviation of the predicted values by a model from the actual observed values. So, since it is a sort of error term, it is better to have a low RMSE."
   ]
  },
  {
   "cell_type": "code",
   "execution_count": 88,
   "id": "23460b68",
   "metadata": {},
   "outputs": [],
   "source": [
    "# R-squared on the test set\n",
    "# r2_score(y_true, y_pred)"
   ]
  },
  {
   "cell_type": "code",
   "execution_count": 90,
   "id": "dff738da",
   "metadata": {},
   "outputs": [
    {
     "data": {
      "text/plain": [
       "0.7921031601245658"
      ]
     },
     "execution_count": 90,
     "metadata": {},
     "output_type": "execute_result"
    }
   ],
   "source": [
    "# r2 on test\n",
    "\n",
    "r_squared = r2_score(y_test, y_pred)\n",
    "r_squared"
   ]
  },
  {
   "cell_type": "code",
   "execution_count": 89,
   "id": "17ecd9b8",
   "metadata": {},
   "outputs": [
    {
     "data": {
      "text/plain": [
       "0.8157933136480389"
      ]
     },
     "execution_count": 89,
     "metadata": {},
     "output_type": "execute_result"
    }
   ],
   "source": [
    "# r2 on train\n",
    "\n",
    "r_squared = r2_score(y_train, y_train_pred)\n",
    "r_squared"
   ]
  },
  {
   "cell_type": "code",
   "execution_count": 92,
   "id": "7655ad60",
   "metadata": {},
   "outputs": [
    {
     "data": {
      "image/png": "[encoded data removed]",
      "text/plain": [
       "<Figure size 432x288 with 1 Axes>"
      ]
     },
     "metadata": {
      "needs_background": "light"
     },
     "output_type": "display_data"
    }
   ],
   "source": [
    "# Visualizing the fit on the test set\n",
    "\n",
    "plt.scatter(X_test, y_test)\n",
    "# y_pred = 6.948 + 0.054 * X_test\n",
    "plt.plot(X_test, y_pred , 'r')\n",
    "plt.show()"
   ]
  },
  {
   "cell_type": "markdown",
   "id": "d4005067",
   "metadata": {},
   "source": []
  },
  {
   "cell_type": "code",
   "execution_count": null,
   "id": "3eeccdc5",
   "metadata": {},
   "outputs": [],
   "source": []
  },
  {
   "cell_type": "markdown",
   "id": "1360614c",
   "metadata": {},
   "source": [
    "# Linear Regression using `linear_model` in `sklearn`\n",
    "\n",
    "Apart from `statsmodels`, there is another package namely `sklearn` that can be used to perform linear regression. We will use the `linear_model` library from `sklearn` to build the model. \n",
    "\n",
    "There's one small step that we need to add, though. When there's only a single feature, we need to add an additional column in order for the linear regression fit to be performed successfully.\n",
    "\n",
    "SKLearn is a ‘lighter’ version of the linear regression packages"
   ]
  },
  {
   "cell_type": "code",
   "execution_count": 110,
   "id": "f33b678b",
   "metadata": {},
   "outputs": [],
   "source": [
    "from sklearn.model_selection import train_test_split\n",
    "X_train_lm, X_test_lm, y_train_lm, y_test_lm = train_test_split(X, y, train_size = 0.7, test_size = 0.3, random_state = 100)"
   ]
  },
  {
   "cell_type": "code",
   "execution_count": 111,
   "id": "2a9fb056",
   "metadata": {},
   "outputs": [
    {
     "data": {
      "text/plain": [
       "(140,)"
      ]
     },
     "execution_count": 111,
     "metadata": {},
     "output_type": "execute_result"
    }
   ],
   "source": [
    "# it is an series and not an array\n",
    "# series -> (140,)\n",
    "# expects an array -> (140,1) \n",
    "\n",
    "X_train_lm.shape"
   ]
  },
  {
   "cell_type": "code",
   "execution_count": 112,
   "id": "a934b1e7",
   "metadata": {},
   "outputs": [
    {
     "name": "stdout",
     "output_type": "stream",
     "text": [
      "(140,)\n",
      "(140,)\n",
      "(60,)\n",
      "(60,)\n"
     ]
    }
   ],
   "source": [
    "print(X_train_lm.shape)\n",
    "print(y_train_lm.shape)\n",
    "print(X_test_lm.shape)\n",
    "print(y_test_lm.shape)"
   ]
  },
  {
   "cell_type": "code",
   "execution_count": 113,
   "id": "bffcfc5e",
   "metadata": {},
   "outputs": [],
   "source": [
    "# When there's only a single feature, we need to add an additional column in order for the linear regression fit to be performed successfully.\n",
    "# reshape = (140,1)\n",
    "\n",
    "X_train_lm = X_train_lm.values.reshape(-1,1)\n",
    "X_test_lm = X_test_lm.values.reshape(-1,1)"
   ]
  },
  {
   "cell_type": "code",
   "execution_count": 114,
   "id": "931de2e5",
   "metadata": {},
   "outputs": [
    {
     "name": "stdout",
     "output_type": "stream",
     "text": [
      "(140, 1)\n",
      "(140,)\n",
      "(60, 1)\n",
      "(60,)\n"
     ]
    }
   ],
   "source": [
    "print(X_train_lm.shape)\n",
    "print(y_train_lm.shape)\n",
    "print(X_test_lm.shape)\n",
    "print(y_test_lm.shape)"
   ]
  },
  {
   "cell_type": "code",
   "execution_count": 117,
   "id": "ea2f74a6",
   "metadata": {},
   "outputs": [
    {
     "data": {
      "text/plain": [
       "LinearRegression()"
      ]
     },
     "execution_count": 117,
     "metadata": {},
     "output_type": "execute_result"
    }
   ],
   "source": [
    "from sklearn.linear_model import LinearRegression\n",
    "\n",
    "# create an object of linear regression\n",
    "lm = LinearRegression()\n",
    "\n",
    "# fit the model\n",
    "lm.fit(X_train_lm, y_train_lm)"
   ]
  },
  {
   "cell_type": "code",
   "execution_count": 119,
   "id": "de42718f",
   "metadata": {},
   "outputs": [
    {
     "name": "stdout",
     "output_type": "stream",
     "text": [
      "6.9486832000013585\n"
     ]
    }
   ],
   "source": [
    "print(lm.intercept_)"
   ]
  },
  {
   "cell_type": "code",
   "execution_count": 120,
   "id": "633a4c6e",
   "metadata": {},
   "outputs": [
    {
     "name": "stdout",
     "output_type": "stream",
     "text": [
      "[0.05454575]\n"
     ]
    }
   ],
   "source": [
    "print(lm.coef_)"
   ]
  },
  {
   "cell_type": "code",
   "execution_count": 121,
   "id": "8945cbde",
   "metadata": {},
   "outputs": [],
   "source": [
    "# make predictions\n",
    "y_train_pred = lm.predict(X_train_lm)\n",
    "y_test_pred = lm.predict(X_test_lm)"
   ]
  },
  {
   "cell_type": "code",
   "execution_count": 125,
   "id": "8820ca86",
   "metadata": {},
   "outputs": [
    {
     "data": {
      "text/plain": [
       "0.8157933136480388"
      ]
     },
     "execution_count": 125,
     "metadata": {},
     "output_type": "execute_result"
    }
   ],
   "source": [
    "# evaluate the model\n",
    "\n",
    "# train set\n",
    "r2_score(y_train_lm, y_train_pred)"
   ]
  },
  {
   "cell_type": "code",
   "execution_count": 124,
   "id": "f50d135a",
   "metadata": {},
   "outputs": [
    {
     "data": {
      "text/plain": [
       "0.792103160124566"
      ]
     },
     "execution_count": 124,
     "metadata": {},
     "output_type": "execute_result"
    }
   ],
   "source": [
    "# test set\n",
    "r2_score(y_test_lm, y_test_pred)"
   ]
  },
  {
   "cell_type": "markdown",
   "id": "3cce5b50",
   "metadata": {},
   "source": [
    "The equation we get is the same as what we got before!\n",
    "\n",
    "$ Sales = 6.948 + 0.054* TV $"
   ]
  },
  {
   "cell_type": "markdown",
   "id": "25420ca4",
   "metadata": {},
   "source": [
    "Sklearn linear model is useful as it is compatible with a lot of sklearn utilites (cross validation, grid search etc.)"
   ]
  },
  {
   "cell_type": "code",
   "execution_count": null,
   "id": "ba6a27f7",
   "metadata": {},
   "outputs": [],
   "source": []
  }
 ],
 "metadata": {
  "kernelspec": {
   "display_name": "Python 3 (ipykernel)",
   "language": "python",
   "name": "python3"
  },
  "language_info": {
   "codemirror_mode": {
    "name": "ipython",
    "version": 3
   },
   "file_extension": ".py",
   "mimetype": "text/x-python",
   "name": "python",
   "nbconvert_exporter": "python",
   "pygments_lexer": "ipython3",
   "version": "3.9.7"
  }
 },
 "nbformat": 4,
 "nbformat_minor": 5
}
